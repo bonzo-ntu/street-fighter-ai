{
 "cells": [
  {
   "cell_type": "code",
   "execution_count": 1,
   "metadata": {},
   "outputs": [],
   "source": [
    "import os\n",
    "os.chdir('../main')"
   ]
  },
  {
   "cell_type": "code",
   "execution_count": 2,
   "metadata": {},
   "outputs": [],
   "source": [
    "# Copyright 2023 LIN Yi. All Rights Reserved.\n",
    "# Licensed under the Apache License, Version 2.0 (the \"License\");\n",
    "# you may not use this file except in compliance with the License.\n",
    "# You may obtain a copy of the License at\n",
    "#     http://www.apache.org/licenses/LICENSE-2.0\n",
    "# Unless required by applicable law or agreed to in writing, software\n",
    "# distributed under the License is distributed on an \"AS IS\" BASIS,\n",
    "# WITHOUT WARRANTIES OR CONDITIONS OF ANY KIND, either express or implied.\n",
    "# See the License for the specific language governing permissions and\n",
    "# limitations under the License.\n",
    "# ==============================================================================\n",
    "\n",
    "import os\n",
    "import sys\n",
    "\n",
    "import retro\n",
    "from stable_baselines3 import DQN\n",
    "from stable_baselines3.common.monitor import Monitor\n",
    "from stable_baselines3.common.callbacks import CheckpointCallback\n",
    "from stable_baselines3.common.vec_env import SubprocVecEnv, VecVideoRecorder\n",
    "import wandb\n",
    "from wandb.integration.sb3 import WandbCallback\n",
    "\n",
    "from street_fighter_custom_wrapper import StreetFighterCustomWrapper\n",
    "\n",
    "NUM_ENV = 8\n",
    "LOG_DIR = 'logs'\n",
    "os.makedirs(LOG_DIR, exist_ok=True)\n",
    "\n",
    "# used for saving checkpoints and logs\n",
    "model_name = \"DQN\""
   ]
  },
  {
   "cell_type": "code",
   "execution_count": 3,
   "metadata": {},
   "outputs": [],
   "source": [
    "# Linear scheduler\n",
    "def linear_schedule(initial_value, final_value=0.0):\n",
    "\n",
    "    if isinstance(initial_value, str):\n",
    "        initial_value = float(initial_value)\n",
    "        final_value = float(final_value)\n",
    "        assert (initial_value > 0.0)\n",
    "\n",
    "    def scheduler(progress):\n",
    "        return final_value + progress * (initial_value - final_value)\n",
    "\n",
    "    return scheduler\n",
    "\n",
    "def make_env(game, state, seed=0):\n",
    "    def _init():\n",
    "        env = retro.make(\n",
    "            game=game, \n",
    "            state=state, \n",
    "            use_restricted_actions=retro.Actions.DISCRETE, \n",
    "            obs_type=retro.Observations.IMAGE    \n",
    "        )\n",
    "        print(\"button_combos\", env.button_combos)\n",
    "        print(\"buttons\", env.buttons)\n",
    "        env = StreetFighterCustomWrapper(env)\n",
    "        env = Monitor(env)\n",
    "        env.seed(seed)\n",
    "        return env\n",
    "    return _init"
   ]
  },
  {
   "cell_type": "code",
   "execution_count": 5,
   "metadata": {},
   "outputs": [
    {
     "name": "stderr",
     "output_type": "stream",
     "text": [
      "\u001b[34m\u001b[1mwandb\u001b[0m: \u001b[33mWARNING\u001b[0m Calling wandb.login() after wandb.init() has no effect.\n"
     ]
    },
    {
     "data": {
      "text/html": [
       "Finishing last run (ID:gkz9tcn2) before initializing another..."
      ],
      "text/plain": [
       "<IPython.core.display.HTML object>"
      ]
     },
     "metadata": {},
     "output_type": "display_data"
    },
    {
     "data": {
      "text/html": [
       "Waiting for W&B process to finish... <strong style=\"color:green\">(success).</strong>"
      ],
      "text/plain": [
       "<IPython.core.display.HTML object>"
      ]
     },
     "metadata": {},
     "output_type": "display_data"
    },
    {
     "data": {
      "text/html": [
       " View run <strong style=\"color:#cdcd00\">clean-night-18</strong> at: <a href='https://wandb.ai/ntuai2023/sf2/runs/gkz9tcn2' target=\"_blank\">https://wandb.ai/ntuai2023/sf2/runs/gkz9tcn2</a><br/>Synced 6 W&B file(s), 0 media file(s), 0 artifact file(s) and 0 other file(s)"
      ],
      "text/plain": [
       "<IPython.core.display.HTML object>"
      ]
     },
     "metadata": {},
     "output_type": "display_data"
    },
    {
     "data": {
      "text/html": [
       "Find logs at: <code>./wandb/run-20230526_233559-gkz9tcn2/logs</code>"
      ],
      "text/plain": [
       "<IPython.core.display.HTML object>"
      ]
     },
     "metadata": {},
     "output_type": "display_data"
    },
    {
     "data": {
      "text/html": [
       "Successfully finished last run (ID:gkz9tcn2). Initializing new run:<br/>"
      ],
      "text/plain": [
       "<IPython.core.display.HTML object>"
      ]
     },
     "metadata": {},
     "output_type": "display_data"
    },
    {
     "data": {
      "text/html": [
       "Tracking run with wandb version 0.15.3"
      ],
      "text/plain": [
       "<IPython.core.display.HTML object>"
      ]
     },
     "metadata": {},
     "output_type": "display_data"
    },
    {
     "data": {
      "text/html": [
       "Run data is saved locally in <code>/home/bonzo_yang/github/openai/bonzo/street-fighter-ai/main/wandb/run-20230526_233610-16fteirg</code>"
      ],
      "text/plain": [
       "<IPython.core.display.HTML object>"
      ]
     },
     "metadata": {},
     "output_type": "display_data"
    },
    {
     "data": {
      "text/html": [
       "Syncing run <strong><a href='https://wandb.ai/ntuai2023/sf2/runs/16fteirg' target=\"_blank\">lively-breeze-19</a></strong> to <a href='https://wandb.ai/ntuai2023/sf2' target=\"_blank\">Weights & Biases</a> (<a href='https://wandb.me/run' target=\"_blank\">docs</a>)<br/>"
      ],
      "text/plain": [
       "<IPython.core.display.HTML object>"
      ]
     },
     "metadata": {},
     "output_type": "display_data"
    },
    {
     "data": {
      "text/html": [
       " View project at <a href='https://wandb.ai/ntuai2023/sf2' target=\"_blank\">https://wandb.ai/ntuai2023/sf2</a>"
      ],
      "text/plain": [
       "<IPython.core.display.HTML object>"
      ]
     },
     "metadata": {},
     "output_type": "display_data"
    },
    {
     "data": {
      "text/html": [
       " View run at <a href='https://wandb.ai/ntuai2023/sf2/runs/16fteirg' target=\"_blank\">https://wandb.ai/ntuai2023/sf2/runs/16fteirg</a>"
      ],
      "text/plain": [
       "<IPython.core.display.HTML object>"
      ]
     },
     "metadata": {},
     "output_type": "display_data"
    }
   ],
   "source": [
    "import wandb\n",
    "from wandb.integration.sb3 import WandbCallback\n",
    "import os\n",
    "if 'WANDB_BASE_URL' in os.environ:\n",
    "    del os.environ['WANDB_BASE_URL']\n",
    "# 先 login, 如果要切換帳號可以在 command line 打 `wandb login --relogin`\n",
    "# 這行會要求你去 https://wandb.ai/authorize 拿取屬於自己的 api key\n",
    "# 複製 api key 貼上 (即使是在同個 team 不同人會拿到不同的 key)\n",
    "wandb.login()\n",
    "\n",
    "# 我們的 team 是 'ntuai2023'，這個要設在 `wandb.init()` 的 `entity` 參數\n",
    "# team 底下的 project 是`sf2`\n",
    "config = {\n",
    "    'algo':'DQN',\n",
    "    'total_timesteps':int(7.5e6),\n",
    "    'stage':'Level12.RyuVsBison',\n",
    "\n",
    "}\n",
    "WANDB_PROJECT='sf2'\n",
    "run = wandb.init(project=WANDB_PROJECT, \n",
    "                 entity='ntuai2023', \n",
    "                 sync_tensorboard=True,  # auto-upload sb3's tensorboard metrics\n",
    "                 monitor_gym=True,  # auto-upload the videos of agents playing the game\n",
    "                 save_code=True,  # optional\n",
    "                 settings=wandb.Settings(start_method=\"fork\"))"
   ]
  },
  {
   "cell_type": "code",
   "execution_count": 8,
   "metadata": {},
   "outputs": [
    {
     "name": "stdout",
     "output_type": "stream",
     "text": [
      "button_combos [[0, 16, 32], [0, 64, 128], [0, 1, 2, 3, 256, 257, 512, 513, 1024, 1026, 1536, 2048, 2304, 2560]]\n",
      "buttons ['B', 'A', 'MODE', 'START', 'UP', 'DOWN', 'LEFT', 'RIGHT', 'C', 'Y', 'X', 'Z']\n",
      "button_combos [[0, 16, 32], [0, 64, 128], [0, 1, 2, 3, 256, 257, 512, 513, 1024, 1026, 1536, 2048, 2304, 2560]]\n",
      "buttons ['B', 'A', 'MODE', 'START', 'UP', 'DOWN', 'LEFT', 'RIGHT', 'C', 'Y', 'X', 'Z']\n",
      "button_combos [[0, 16, 32], [0, 64, 128], [0, 1, 2, 3, 256, 257, 512, 513, 1024, 1026, 1536, 2048, 2304, 2560]]\n",
      "buttons ['B', 'A', 'MODE', 'START', 'UP', 'DOWN', 'LEFT', 'RIGHT', 'C', 'Y', 'X', 'Z']\n",
      "button_combos [[0, 16, 32], [0, 64, 128], [0, 1, 2, 3, 256, 257, 512, 513, 1024, 1026, 1536, 2048, 2304, 2560]]\n",
      "buttons ['B', 'A', 'MODE', 'START', 'UP', 'DOWN', 'LEFT', 'RIGHT', 'C', 'Y', 'X', 'Z']\n",
      "button_combos [[0, 16, 32], [0, 64, 128], [0, 1, 2, 3, 256, 257, 512, 513, 1024, 1026, 1536, 2048, 2304, 2560]]\n",
      "buttons ['B', 'A', 'MODE', 'START', 'UP', 'DOWN', 'LEFT', 'RIGHT', 'C', 'Y', 'X', 'Z']\n",
      "button_combos [[0, 16, 32], [0, 64, 128], [0, 1, 2, 3, 256, 257, 512, 513, 1024, 1026, 1536, 2048, 2304, 2560]]\n",
      "buttons ['B', 'A', 'MODE', 'START', 'UP', 'DOWN', 'LEFT', 'RIGHT', 'C', 'Y', 'X', 'Z']\n",
      "Using cuda device\n",
      "Wrapping the env in a VecTransposeImage.\n",
      "button_combos [[0, 16, 32], [0, 64, 128], [0, 1, 2, 3, 256, 257, 512, 513, 1024, 1026, 1536, 2048, 2304, 2560]]\n",
      "buttons ['B', 'A', 'MODE', 'START', 'UP', 'DOWN', 'LEFT', 'RIGHT', 'C', 'Y', 'X', 'Z']\n",
      "button_combos [[0, 16, 32], [0, 64, 128], [0, 1, 2, 3, 256, 257, 512, 513, 1024, 1026, 1536, 2048, 2304, 2560]]\n",
      "buttons ['B', 'A', 'MODE', 'START', 'UP', 'DOWN', 'LEFT', 'RIGHT', 'C', 'Y', 'X', 'Z']\n"
     ]
    }
   ],
   "source": [
    "#def main():\n",
    "if __name__=='__main__':\n",
    "    # Set up the environment and model\n",
    "    game = \"StreetFighterIISpecialChampionEdition-Genesis\"\n",
    "    env = SubprocVecEnv([make_env(game, state=\"Champion.Level12.RyuVsBison\", seed=i) for i in range(NUM_ENV)])\n",
    "    #env = VecVideoRecorder(env, f\"videos/{run.id}\", record_video_trigger=lambda x: x % (2000*3000) == 0, video_length=200*3000)\n",
    "\n",
    "    # Set linear schedule for learning rate\n",
    "    # Start\n",
    "    lr_schedule = linear_schedule(2.5e-4, 2.5e-6)\n",
    "\n",
    "    # fine-tune\n",
    "    # lr_schedule = linear_schedule(5.0e-5, 2.5e-6)\n",
    "\n",
    "    # Set linear scheduler for clip range\n",
    "    # Start\n",
    "    clip_range_schedule = linear_schedule(0.15, 0.025)\n",
    "\n",
    "    # fine-tune\n",
    "    # clip_range_schedule = linear_schedule(0.075, 0.025)\n",
    "\n",
    "    model = DQN(\n",
    "        \"CnnPolicy\", \n",
    "        env,\n",
    "        device=\"cuda\", \n",
    "        verbose=1,\n",
    "        buffer_size = 10_000,\n",
    "        # n_steps=512,\n",
    "        #train_freq=(128, \"step\"),\n",
    "        batch_size=512,\n",
    "        # n_epochs=4,\n",
    "        gamma=0.94,\n",
    "        learning_rate=lr_schedule,\n",
    "        #clip_range=clip_range_schedule,\n",
    "        #tensorboard_log=\"logs\"\n",
    "        tensorboard_log=f\"runs/{run.id}\"\n",
    "    )\n",
    "\n",
    "\n",
    "    # Set the save directory\n",
    "    save_dir = \"trained_models_\" + model_name\n",
    "    os.makedirs(save_dir, exist_ok=True)\n",
    "\n",
    "    # Load the model from file\n",
    "    # model_path = \"trained_models/ppo_ryu_7000000_steps.zip\"\n",
    "    \n",
    "    # Load model and modify the learning rate and entropy coefficient\n",
    "    # custom_objects = {\n",
    "    #     \"learning_rate\": lr_schedule,\n",
    "    #     \"clip_range\": clip_range_schedule,\n",
    "    #     \"n_steps\": 512\n",
    "    # }\n",
    "    # model = PPO.load(model_path, env=env, device=\"cuda\", custom_objects=custom_objects)\n",
    "\n",
    "    # Set up callbacks\n",
    "    # Note that 1 timesetp = 6 frame\n",
    "    checkpoint_interval = 31250 # checkpoint_interval * num_envs = total_steps_per_checkpoint\n",
    "    #checkpoint_callback = CheckpointCallback(save_freq=checkpoint_interval, save_path=save_dir, name_prefix=model_name)\n",
    "    checkpoint_callback = WandbCallback(\n",
    "        gradient_save_freq=1000,\n",
    "        model_save_freq = checkpoint_interval,\n",
    "        model_save_path=f\"{save_dir}/{run.id}\",\n",
    "        #verbose=2,\n",
    "    )\n",
    "\n",
    "    # Writing the training logs from stdout to a file\n",
    "    original_stdout = sys.stdout\n",
    "    log_file_path = os.path.join(save_dir, \"training_log.txt\")\n",
    "    with open(log_file_path, 'w') as log_file:\n",
    "        sys.stdout = log_file\n",
    "    \n",
    "        model.learn(\n",
    "            total_timesteps=int(7.5e6), # total_timesteps = stage_interval * num_envs * num_stages (1120 rounds)\n",
    "            callback=[checkpoint_callback]#, stage_increase_callback]\n",
    "        )\n",
    "        env.close()\n",
    "\n",
    "    # Restore stdout\n",
    "    sys.stdout = original_stdout\n",
    "\n",
    "    # Save the final model\n",
    "    model.save(os.path.join(save_dir, model_name+\".zip\"))\n",
    "    print(f'model saved to {os.path.join(save_dir, model_name+\".zip\")}')\n",
    "\n",
    "    print('end of learning')"
   ]
  },
  {
   "cell_type": "code",
   "execution_count": null,
   "metadata": {},
   "outputs": [],
   "source": []
  }
 ],
 "metadata": {
  "kernelspec": {
   "display_name": "sf2",
   "language": "python",
   "name": "python3"
  },
  "language_info": {
   "codemirror_mode": {
    "name": "ipython",
    "version": 3
   },
   "file_extension": ".py",
   "mimetype": "text/x-python",
   "name": "python",
   "nbconvert_exporter": "python",
   "pygments_lexer": "ipython3",
   "version": "3.8.16"
  },
  "orig_nbformat": 4
 },
 "nbformat": 4,
 "nbformat_minor": 2
}
